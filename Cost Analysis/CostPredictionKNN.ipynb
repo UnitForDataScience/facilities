{
 "cells": [
  {
   "cell_type": "code",
   "execution_count": 1,
   "metadata": {
    "collapsed": true
   },
   "outputs": [],
   "source": [
    "import pickle\n",
    "import pandas as pd\n",
    "import numpy as np\n",
    "from sklearn.neighbors import NearestNeighbors\n",
    "from sklearn.model_selection import train_test_split"
   ]
  },
  {
   "cell_type": "code",
   "execution_count": 2,
   "metadata": {
    "collapsed": true
   },
   "outputs": [],
   "source": [
    "df = pd.read_pickle('issue_text_vector.pkl')"
   ]
  },
  {
   "cell_type": "code",
   "execution_count": 3,
   "metadata": {},
   "outputs": [
    {
     "data": {
      "text/plain": [
       "['Work.Order',\n",
       " 'Action.Requested',\n",
       " 'General.Comments',\n",
       " 'Task.Comments',\n",
       " 'Building',\n",
       " 'Campus',\n",
       " 'Total',\n",
       " 'Text.Vector']"
      ]
     },
     "execution_count": 3,
     "metadata": {},
     "output_type": "execute_result"
    }
   ],
   "source": [
    "list(df)"
   ]
  },
  {
   "cell_type": "code",
   "execution_count": 4,
   "metadata": {},
   "outputs": [
    {
     "data": {
      "text/plain": [
       "43041"
      ]
     },
     "execution_count": 4,
     "metadata": {},
     "output_type": "execute_result"
    }
   ],
   "source": [
    "len(df)"
   ]
  },
  {
   "cell_type": "code",
   "execution_count": 5,
   "metadata": {
    "collapsed": true
   },
   "outputs": [],
   "source": [
    "msk = np.random.rand(len(df)) < 0.8\n",
    "train = df[msk]\n",
    "test = df[~msk]"
   ]
  },
  {
   "cell_type": "code",
   "execution_count": 30,
   "metadata": {
    "collapsed": true
   },
   "outputs": [],
   "source": [
    "trainX = train['Text.Vector'].values.tolist()\n",
    "trainY = train['Total'].values.tolist()\n",
    "\n",
    "testX = test['Text.Vector'].values.tolist()\n",
    "testY = test['Total'].values.tolist()"
   ]
  },
  {
   "cell_type": "code",
   "execution_count": 32,
   "metadata": {},
   "outputs": [],
   "source": [
    "neigh = NearestNeighbors(n_neighbors=5)\n",
    "neigh.fit(trainX)\n",
    "neighbors = neigh.kneighbors(testX, return_distance=False)"
   ]
  },
  {
   "cell_type": "code",
   "execution_count": 33,
   "metadata": {},
   "outputs": [
    {
     "data": {
      "text/plain": [
       "array([  166,    35, 22772, 11919, 16692], dtype=int64)"
      ]
     },
     "execution_count": 33,
     "metadata": {},
     "output_type": "execute_result"
    }
   ],
   "source": [
    "neighbors[0]"
   ]
  },
  {
   "cell_type": "code",
   "execution_count": 72,
   "metadata": {},
   "outputs": [],
   "source": [
    "predicted = np.zeros(len(testY))\n",
    "MAX_COST = 500\n",
    "deviation = 0\n",
    "test_len = 0\n",
    "for i in range(0, len(testY)):\n",
    "    if testY[i] < MAX_COST:\n",
    "        test_len += 1\n",
    "        nn = neighbors[i]\n",
    "        count = 0\n",
    "        for j in nn:\n",
    "            if trainY[j] < MAX_COST:\n",
    "                predicted[i] += trainY[j]\n",
    "                count += 1\n",
    "        if count != 0:\n",
    "            predicted[i] /= count\n",
    "        if testY[i] != 0:\n",
    "            d = (abs(predicted[i] - testY[i])/testY[i]) * 100\n",
    "        else:\n",
    "            d = 0\n",
    "        deviation += d\n",
    "#     print(deviation)\n",
    "    \n",
    "deviation /= test_len"
   ]
  },
  {
   "cell_type": "code",
   "execution_count": 73,
   "metadata": {},
   "outputs": [
    {
     "data": {
      "text/plain": [
       "25.757566555604541"
      ]
     },
     "execution_count": 73,
     "metadata": {},
     "output_type": "execute_result"
    }
   ],
   "source": [
    "deviation"
   ]
  },
  {
   "cell_type": "code",
   "execution_count": 74,
   "metadata": {},
   "outputs": [
    {
     "data": {
      "text/plain": [
       "8403"
      ]
     },
     "execution_count": 74,
     "metadata": {},
     "output_type": "execute_result"
    }
   ],
   "source": [
    "test_len"
   ]
  },
  {
   "cell_type": "code",
   "execution_count": 75,
   "metadata": {},
   "outputs": [
    {
     "data": {
      "text/plain": [
       "8629"
      ]
     },
     "execution_count": 75,
     "metadata": {},
     "output_type": "execute_result"
    }
   ],
   "source": [
    "len(testY)"
   ]
  },
  {
   "cell_type": "code",
   "execution_count": 49,
   "metadata": {},
   "outputs": [],
   "source": [
    "train_text = train['Action.Requested'].values.tolist()\n",
    "test_text = test['Action.Requested'].values.tolist()"
   ]
  },
  {
   "cell_type": "code",
   "execution_count": 64,
   "metadata": {},
   "outputs": [
    {
     "data": {
      "text/plain": [
       "'Air Compressor - Monthly Maintenance'"
      ]
     },
     "execution_count": 64,
     "metadata": {},
     "output_type": "execute_result"
    }
   ],
   "source": [
    "test_text[7]"
   ]
  },
  {
   "cell_type": "code",
   "execution_count": 83,
   "metadata": {},
   "outputs": [
    {
     "name": "stdout",
     "output_type": "stream",
     "text": [
      "Issue cost =  0.0\n",
      "Air Compressor - Monthly Maintenance | Cost:  0.0\n",
      "Air Compressor - Monthly Maintenance | Cost:  0.0\n",
      "Air Compressor - Monthly Maintenance | Cost:  0.0\n",
      "Air Compressor - Monthly Maintenance | Cost:  0.0\n",
      "Air Compressor - Monthly Maintenance | Cost:  0.0\n"
     ]
    }
   ],
   "source": [
    "print('Issue cost = ', testY[7])\n",
    "for i in neighbors[7]:\n",
    "    print(train_text[i], \"| Cost: \", trainY[i])"
   ]
  },
  {
   "cell_type": "code",
   "execution_count": 66,
   "metadata": {},
   "outputs": [
    {
     "data": {
      "text/plain": [
       "'Check temperature through out the third floor had a request to have the third floor temperature consistent  from one end to the other. Entire third floor.   42B1NGI'"
      ]
     },
     "execution_count": 66,
     "metadata": {},
     "output_type": "execute_result"
    }
   ],
   "source": [
    "test_text[6]"
   ]
  },
  {
   "cell_type": "code",
   "execution_count": 82,
   "metadata": {},
   "outputs": [
    {
     "name": "stdout",
     "output_type": "stream",
     "text": [
      "Issue cost =  0.0\n",
      "!! All rooms and living spaces on all three floors of Best Hall A are extremely hot in temperature to the point where the residents are getting discomfort from being in them. Opening the windows is not enough to cool the rooms down. Building temperature needs to be lowered.  4NH1MA0 | Cost:  46.72\n",
      "Temperature in Noble Library    Hello,  I work on the third floor of Noble Science Library.  I work specifically in Room 380 (the Map Collection/Geospatial Hub).  The temperature is too warm here.  It is significantly warmer on the third floor than the first or second.  It has been this way since th. . . | Cost:  0.0\n",
      "Request to check air conditioning in FAB S105 and 1st floor South Suites.    FAB 1st floor West Lobby is cooler temperature than 1st floor South Suites.  Thank you for your help.  Gloria 602-543-6061 gsawrey@asu.edu | Cost:  0.0\n",
      "The air conditioning seems fine on all floors and in all rooms in the building except this room. It is very hot at all times. There is no thermostat for me to adjust the levels. It feels like air is coming out of the vent if I put my hand up against it but not a lot seems to be getting through. I kn. . . | Cost:  0.0\n",
      "!! Very minimal air flow in the rooms and throughout the hall. The rooms on the second floor do not get enough air conditioning running through them. Very warm in each room, in the halls, and on the floor in general. 4N6FFM4 | Cost:  0.0\n"
     ]
    }
   ],
   "source": [
    "print('Issue cost = ', testY[6])\n",
    "for i in neighbors[6]:\n",
    "    print(train_text[i], \"| Cost: \", trainY[i])"
   ]
  },
  {
   "cell_type": "code",
   "execution_count": null,
   "metadata": {
    "collapsed": true
   },
   "outputs": [],
   "source": [
    "meta_data = dict(type = 'choropleth', \n",
    "           locations = happy['country'], \n",
    "           colorscale = scl, \n",
    "           reversescale = True, \n",
    "           locationmode = 'country names', \n",
    "           z = happy['score'], \n",
    "           marker= dict(line=dict(color='black', \n",
    "                        width=1)), \n",
    "           text = happy['country'], \n",
    "           hoverlabel= dict(bgcolor= 'D68C24',\n",
    "                            font=dict(family='Times New Roman',\n",
    "                                      color='white')), \n",
    "           colorbar = {'title':'Happiness Score', 'nticks':9}\n",
    "           )   \n",
    "\n",
    "layout = dict(title = 'Global Choropleth Plot By Happiness Score', \n",
    "             geo = dict(showframe = True, \n",
    "                       projection = {'type': 'Mercator'})) \n",
    "\n",
    "My_choromap = go.Figure(data = [meta_data], layout=layout)\n",
    "iplot(My_choromap)"
   ]
  }
 ],
 "metadata": {
  "kernelspec": {
   "display_name": "Python 3",
   "language": "python",
   "name": "python3"
  },
  "language_info": {
   "codemirror_mode": {
    "name": "ipython",
    "version": 3
   },
   "file_extension": ".py",
   "mimetype": "text/x-python",
   "name": "python",
   "nbconvert_exporter": "python",
   "pygments_lexer": "ipython3",
   "version": "3.6.1"
  }
 },
 "nbformat": 4,
 "nbformat_minor": 2
}
